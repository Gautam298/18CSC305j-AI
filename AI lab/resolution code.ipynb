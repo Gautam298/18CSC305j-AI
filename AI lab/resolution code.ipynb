{
 "cells": [
  {
   "cell_type": "code",
   "execution_count": 1,
   "id": "a6d802bd",
   "metadata": {},
   "outputs": [
    {
     "name": "stdout",
     "output_type": "stream",
     "text": [
      "['Q', 'R', 'S']\n"
     ]
    }
   ],
   "source": [
    "def resolve(clause1, clause2):\n",
    "    resolvents = []\n",
    "    \n",
    "    for literal1 in clause1:\n",
    "        for literal2 in clause2:\n",
    "            if is_negation(literal1, literal2):\n",
    "                resolvent = resolve_literals(literal1, literal2, clause1, clause2)\n",
    "                if resolvent is not None:\n",
    "                    resolvents.append(resolvent)\n",
    "    \n",
    "    return resolvents\n",
    "\n",
    "def is_negation(literal1, literal2):\n",
    "    return literal1[0] == '~' and literal1[1:] == literal2 or literal2[0] == '~' and literal2[1:] == literal1\n",
    "\n",
    "def resolve_literals(literal1, literal2, clause1, clause2):\n",
    "    resolvent = clause1 + clause2\n",
    "    resolvent.remove(literal1)\n",
    "    resolvent.remove(literal2)\n",
    "    if len(resolvent) == 0:\n",
    "        return None\n",
    "    else:\n",
    "        return resolvent\n",
    "\n",
    "# Example usage:\n",
    "clause1 = ['~P', 'Q', 'R']\n",
    "clause2 = ['P', 'S']\n",
    "\n",
    "resolvents = resolve(clause1, clause2)\n",
    "for resolvent in resolvents:\n",
    "    print(resolvent)\n"
   ]
  }
 ],
 "metadata": {
  "kernelspec": {
   "display_name": "Python 3 (ipykernel)",
   "language": "python",
   "name": "python3"
  },
  "language_info": {
   "codemirror_mode": {
    "name": "ipython",
    "version": 3
   },
   "file_extension": ".py",
   "mimetype": "text/x-python",
   "name": "python",
   "nbconvert_exporter": "python",
   "pygments_lexer": "ipython3",
   "version": "3.9.13"
  }
 },
 "nbformat": 4,
 "nbformat_minor": 5
}
