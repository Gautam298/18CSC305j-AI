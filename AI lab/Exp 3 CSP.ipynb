{
 "cells": [
  {
   "cell_type": "code",
   "execution_count": 1,
   "id": "b4aac093",
   "metadata": {},
   "outputs": [
    {
     "name": "stdout",
     "output_type": "stream",
     "text": [
      "Solution found: {'D': 'red', 'B': 'red', 'A': 'red', 'C': 'red'}\n"
     ]
    }
   ],
   "source": [
    "#CSP\n",
    "def backtracking_search(csp):\n",
    "    assignment = {}\n",
    "    return recursive_backtracking(assignment, csp)\n",
    "\n",
    "def recursive_backtracking(assignment, csp):\n",
    "    if is_complete(assignment, csp):\n",
    "        return assignment\n",
    "    \n",
    "    var = select_unassigned_variable(assignment, csp)\n",
    "    for value in order_domain_values(var, assignment, csp):\n",
    "        if is_consistent(var, value, assignment, csp):\n",
    "            assignment[var] = value\n",
    "            result = recursive_backtracking(assignment, csp)\n",
    "            if result is not None:\n",
    "                return result\n",
    "            del assignment[var]\n",
    "    return None\n",
    "\n",
    "def is_complete(assignment, csp):\n",
    "    return len(assignment) == len(csp)\n",
    "\n",
    "def select_unassigned_variable(assignment, csp):\n",
    "    unassigned_vars = [var for var in csp if var not in assignment]\n",
    "    return min(unassigned_vars, key=lambda var: len(csp[var]))\n",
    "\n",
    "def order_domain_values(var, assignment, csp):\n",
    "    return csp[var]\n",
    "\n",
    "def is_consistent(var, value, assignment, csp):\n",
    "    for neighbor in csp[var]:\n",
    "        if neighbor in assignment and assignment[neighbor] == value:\n",
    "            return False\n",
    "    return True\n",
    "\n",
    "# Example usage:\n",
    "csp = {\n",
    "    'A': ['red', 'green', 'blue'],\n",
    "    'B': ['red', 'green'],\n",
    "    'C': ['red', 'green', 'blue'],\n",
    "    'D': ['red']\n",
    "}\n",
    "\n",
    "result = backtracking_search(csp)\n",
    "if result is None:\n",
    "    print(\"No solution found.\")\n",
    "else:\n",
    "    print(\"Solution found:\", result)\n"
   ]
  }
 ],
 "metadata": {
  "kernelspec": {
   "display_name": "Python 3 (ipykernel)",
   "language": "python",
   "name": "python3"
  },
  "language_info": {
   "codemirror_mode": {
    "name": "ipython",
    "version": 3
   },
   "file_extension": ".py",
   "mimetype": "text/x-python",
   "name": "python",
   "nbconvert_exporter": "python",
   "pygments_lexer": "ipython3",
   "version": "3.9.13"
  }
 },
 "nbformat": 4,
 "nbformat_minor": 5
}
