{
 "cells": [
  {
   "cell_type": "code",
   "execution_count": 1,
   "id": "c3ba941b",
   "metadata": {},
   "outputs": [
    {
     "name": "stdout",
     "output_type": "stream",
     "text": [
      "Total cost: 3.8\n"
     ]
    }
   ],
   "source": [
    "#real world problem\n",
    "def calculate_total_cost(items):\n",
    "    total_cost = 0\n",
    "    for item in items:\n",
    "        price = item['price']\n",
    "        quantity = item['quantity']\n",
    "        subtotal = price * quantity\n",
    "        total_cost += subtotal\n",
    "    return total_cost\n",
    "\n",
    "# Example usage:\n",
    "items = [\n",
    "    {'name': 'Apples', 'price': 0.5, 'quantity': 3},\n",
    "    {'name': 'Bananas', 'price': 0.3, 'quantity': 5},\n",
    "    {'name': 'Oranges', 'price': 0.4, 'quantity': 2}\n",
    "]\n",
    "total = calculate_total_cost(items)\n",
    "print(\"Total cost:\", total)\n"
   ]
  }
 ],
 "metadata": {
  "kernelspec": {
   "display_name": "Python 3 (ipykernel)",
   "language": "python",
   "name": "python3"
  },
  "language_info": {
   "codemirror_mode": {
    "name": "ipython",
    "version": 3
   },
   "file_extension": ".py",
   "mimetype": "text/x-python",
   "name": "python",
   "nbconvert_exporter": "python",
   "pygments_lexer": "ipython3",
   "version": "3.9.13"
  }
 },
 "nbformat": 4,
 "nbformat_minor": 5
}
