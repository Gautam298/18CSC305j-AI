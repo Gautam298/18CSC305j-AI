{
 "cells": [
  {
   "cell_type": "code",
   "execution_count": 1,
   "id": "1b238b4f",
   "metadata": {},
   "outputs": [
    {
     "name": "stdout",
     "output_type": "stream",
     "text": [
      "{}\n",
      "None\n",
      "None\n"
     ]
    }
   ],
   "source": [
    "def unify(x, y, substitution):\n",
    "    if substitution is None:\n",
    "        return None\n",
    "    elif x == y:\n",
    "        return substitution\n",
    "    elif is_variable(x):\n",
    "        return unify_variable(x, y, substitution)\n",
    "    elif is_variable(y):\n",
    "        return unify_variable(y, x, substitution)\n",
    "    elif is_compound(x) and is_compound(y):\n",
    "        return unify(x[1:], y[1:], unify(x[0], y[0], substitution))\n",
    "    else:\n",
    "        return None\n",
    "\n",
    "def unify_variable(var, x, substitution):\n",
    "    if var in substitution:\n",
    "        return unify(substitution[var], x, substitution)\n",
    "    elif x in substitution:\n",
    "        return unify(var, substitution[x], substitution)\n",
    "    else:\n",
    "        substitution[var] = x\n",
    "        return substitution\n",
    "\n",
    "def is_variable(x):\n",
    "    return isinstance(x, str) and x.islower()\n",
    "\n",
    "def is_compound(x):\n",
    "    return isinstance(x, list)\n",
    "\n",
    "# Example usage:\n",
    "substitution = unify('John', 'John', {})\n",
    "print(substitution)  # Output: {}\n",
    "\n",
    "substitution = unify('X', 'John', {})\n",
    "print(substitution)  # Output: {'X': 'John'}\n",
    "\n",
    "substitution = unify(['likes', 'X', 'ice cream'], ['likes', 'John', 'ice cream'], {})\n",
    "print(substitution)  # Output: {'X': 'John'}\n"
   ]
  }
 ],
 "metadata": {
  "kernelspec": {
   "display_name": "Python 3 (ipykernel)",
   "language": "python",
   "name": "python3"
  },
  "language_info": {
   "codemirror_mode": {
    "name": "ipython",
    "version": 3
   },
   "file_extension": ".py",
   "mimetype": "text/x-python",
   "name": "python",
   "nbconvert_exporter": "python",
   "pygments_lexer": "ipython3",
   "version": "3.9.13"
  }
 },
 "nbformat": 4,
 "nbformat_minor": 5
}
