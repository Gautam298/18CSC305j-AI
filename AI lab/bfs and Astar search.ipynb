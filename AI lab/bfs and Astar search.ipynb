{
 "cells": [
  {
   "cell_type": "code",
   "execution_count": 1,
   "id": "84cd9a3a",
   "metadata": {},
   "outputs": [
    {
     "name": "stdout",
     "output_type": "stream",
     "text": [
      "Shortest Path: ['A', 'C', 'D', 'F']\n"
     ]
    }
   ],
   "source": [
    "from queue import PriorityQueue\n",
    "\n",
    "def best_first_search(graph, start, goal):\n",
    "    visited = set()\n",
    "    queue = PriorityQueue()\n",
    "    queue.put((0, start, [start]))  # Queue elements: (heuristic_value, node, path)\n",
    "\n",
    "    while not queue.empty():\n",
    "        _, current, path = queue.get()\n",
    "\n",
    "        if current == goal:\n",
    "            return path\n",
    "\n",
    "        visited.add(current)\n",
    "\n",
    "        for neighbor in graph[current]:\n",
    "            if neighbor not in visited:\n",
    "                new_cost = graph[current][neighbor]\n",
    "                new_path = path + [neighbor]\n",
    "                queue.put((new_cost, neighbor, new_path))\n",
    "\n",
    "    return None\n",
    "\n",
    "# Road network represented as an adjacency list with distances\n",
    "graph = {\n",
    "    'A': {'B': 5, 'C': 3},\n",
    "    'B': {'D': 2},\n",
    "    'C': {'D': 4, 'E': 6},\n",
    "    'D': {'F': 1},\n",
    "    'E': {'F': 8},\n",
    "    'F': {}\n",
    "}\n",
    "\n",
    "start_city = 'A'\n",
    "goal_city = 'F'\n",
    "\n",
    "# Perform Best-First Search\n",
    "path = best_first_search(graph, start_city, goal_city)\n",
    "\n",
    "if path:\n",
    "    print(\"Shortest Path:\", path)\n",
    "else:\n",
    "    print(\"No path found!\")\n"
   ]
  },
  {
   "cell_type": "code",
   "execution_count": 2,
   "id": "1fa1db0f",
   "metadata": {},
   "outputs": [
    {
     "name": "stdout",
     "output_type": "stream",
     "text": [
      "Shortest Path: ['A', 'C', 'D', 'F']\n"
     ]
    }
   ],
   "source": [
    "from queue import PriorityQueue\n",
    "\n",
    "def a_star_search(graph, start, goal, coordinates):\n",
    "    visited = set()\n",
    "    queue = PriorityQueue()\n",
    "    queue.put((0, start, [start]))  # Queue elements: (total_cost, node, path)\n",
    "\n",
    "    while not queue.empty():\n",
    "        _, current, path = queue.get()\n",
    "\n",
    "        if current == goal:\n",
    "            return path\n",
    "\n",
    "        visited.add(current)\n",
    "\n",
    "        for neighbor in graph[current]:\n",
    "            if neighbor not in visited:\n",
    "                new_cost = graph[current][neighbor] + heuristic(coordinates[neighbor], coordinates[goal])\n",
    "                new_path = path + [neighbor]\n",
    "                queue.put((new_cost, neighbor, new_path))\n",
    "\n",
    "    return None\n",
    "\n",
    "def heuristic(node, goal):\n",
    "    # Calculate heuristic estimate (e.g., straight-line distance)\n",
    "    x1, y1 = node\n",
    "    x2, y2 = goal\n",
    "    return ((x2 - x1) ** 2 + (y2 - y1) ** 2) ** 0.5\n",
    "\n",
    "# Road network represented as an adjacency list with distances\n",
    "graph = {\n",
    "    'A': {'B': 5, 'C': 3},\n",
    "    'B': {'D': 2},\n",
    "    'C': {'D': 4, 'E': 6},\n",
    "    'D': {'F': 1},\n",
    "    'E': {'F': 8},\n",
    "    'F': {}\n",
    "}\n",
    "\n",
    "# Coordinates of cities in the graph\n",
    "city_coordinates = {\n",
    "    'A': (0, 0),\n",
    "    'B': (1, 1),\n",
    "    'C': (2, 1),\n",
    "    'D': (2, 2),\n",
    "    'E': (3, 1),\n",
    "    'F': (4, 2)\n",
    "}\n",
    "\n",
    "start_city = 'A'\n",
    "goal_city = 'F'\n",
    "\n",
    "# Perform A* Search\n",
    "path = a_star_search(graph, start_city, goal_city, city_coordinates)\n",
    "\n",
    "if path:\n",
    "    print(\"Shortest Path:\", path)\n",
    "else:\n",
    "    print(\"No path found!\")\n"
   ]
  }
 ],
 "metadata": {
  "kernelspec": {
   "display_name": "Python 3 (ipykernel)",
   "language": "python",
   "name": "python3"
  },
  "language_info": {
   "codemirror_mode": {
    "name": "ipython",
    "version": 3
   },
   "file_extension": ".py",
   "mimetype": "text/x-python",
   "name": "python",
   "nbconvert_exporter": "python",
   "pygments_lexer": "ipython3",
   "version": "3.9.13"
  }
 },
 "nbformat": 4,
 "nbformat_minor": 5
}
